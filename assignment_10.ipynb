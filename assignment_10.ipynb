{
 "cells": [
  {
   "cell_type": "markdown",
   "metadata": {},
   "source": [
    "Please fill in your name and that of your teammate.\n",
    "\n",
    "You: Amine CHARFEDDINE\n",
    "\n",
    "Teammate: Delil DAG"
   ]
  },
  {
   "cell_type": "markdown",
   "metadata": {},
   "source": [
    "# Introduction"
   ]
  },
  {
   "cell_type": "markdown",
   "metadata": {},
   "source": [
    "Welcome to the tenth lab. Neural networks are more a class of tools than a single tool, though the foundation you built last week should enable you to understand what is going on here without too much trouble.\n",
    "\n",
    "There is relatively little coding this week, which is unfortunate: we are starting to touch topics that require more than a lab's worth of practice to achieve basic proficiency. Rather than overloading you of work, this week we focus a bit more on foundations and give you time to study; then we should hit more interesting and fun applications over the next lectures with Deep Learning and Reinforcement Learning."
   ]
  },
  {
   "cell_type": "markdown",
   "metadata": {},
   "source": [
    "### How to pass the lab?"
   ]
  },
  {
   "cell_type": "markdown",
   "metadata": {},
   "source": [
    "Below you find the exercise questions. Each question awarding points is numbered and states the number of points like this: **[0pt]**. To answer a question, fill the cell below with your answer (markdown for text, code for implementation). Incorrect or incomplete answers are in principle worth 0 points: to assign partial reward is only up to teacher discretion. Over-complete answers do not award extra points (though they are appreciated and will be kept under consideration). Save your work frequently! (`ctrl+s`)\n",
    "\n",
    "**You need at least 14 points (out of 21 available) to pass** (66%)."
   ]
  },
  {
   "cell_type": "code",
   "execution_count": 1,
   "metadata": {},
   "outputs": [],
   "source": [
    "%matplotlib inline\n",
    "import matplotlib.pyplot as plt\n",
    "import seaborn as sns\n",
    "import numpy as np\n",
    "import pandas as pd\n",
    "from sklearn.model_selection import train_test_split\n",
    "sns.set(rc={'figure.figsize':(8,6)}, style=\"whitegrid\")"
   ]
  },
  {
   "cell_type": "markdown",
   "metadata": {},
   "source": [
    "# 1. Fundamentals"
   ]
  },
  {
   "cell_type": "markdown",
   "metadata": {},
   "source": [
    "#### 1.1 **[1pt]** Explain in English what is the distinctive feature of a residual network."
   ]
  },
  {
   "cell_type": "markdown",
   "metadata": {},
   "source": [
    "A residual network (also called ResNet) features \"skip connections\" which bypass one or more layers and directly add the input of a previous layer to a subsequent layer.\n",
    "This allows inputs to jump over one or more layers and be added directly to a later layer’s output. \n",
    "This design helps, amongst others, to prevent the vanishing gradient problem. This problem occurs when the gradient becomes smaller and smaller as it is propagated back through the network during training. In fact, this weakening of the gradient signal can significantly slow down the learning process and make it difficult to train deeper networks effectively (because as we say, the gradient tells us about the direction and the magnitude of the steps to take to decrease the error and if these steps are too small, they will not effectively reduce the error)."
   ]
  },
  {
   "cell_type": "markdown",
   "metadata": {},
   "source": [
    "#### 1.2 **[2pt]** Write the full equation of a network with structure [2, 4, 1] (same as last week), but this time add (i) biases on all neurons, and (ii) self-recurrent connections only on the hidden layer. How many weights does this network have?"
   ]
  },
  {
   "cell_type": "markdown",
   "metadata": {},
   "source": [
    "- I would suggest starting from your answer from last week, fixing it based on the solution if you need to and have not already, then add what you need.\n",
    "- To avoid changing the indices of the weights, you can simply call bias weights $b$ rather than $w$, and recurrent connections $r$.\n",
    "- The main thing to remember is: each line has the weights entering one destination neuron, and each column refers to one of the inputs to the layer.\n",
    "- Then for a recurrent network, remember to pass the output of all neurons of the same layer (technically representing the previous-step activations, initialized as `0`s) as inputs to each neuron.\n",
    "\n",
    "The network has three layers:\n",
    "- An input layer (no neurons!) with two elements $(x_1, x_2)$\n",
    "- One hidden layer composed of four neurons $(n_1, n_2, n_3, n_4)$\n",
    "- The output layer with only one neuron $(n_5)$\n",
    "\n",
    "We will need to add biases and recurrencies this time: it could be helpful to describe the inputs/outputs for each layer together with the weight matrix. \n",
    "- $X$ is the network input, same as before\n",
    "- Then come the recurrent connections: all the outputs of the neurons of the hidden layer, technically from the previous time step (initialize as zeros)\n",
    "- Finally the bias input, the constant 1 that will be multiplied by the bias weight\n",
    "- $X_{hid}$ is the actual full input to the hidden (and first) layer: all three above\n",
    "- $W_h$ is the weight matrix for ALL the connections entering the hidden layer in the columns, while the rows group the connections entering each neuron\n",
    "- The output can be written with $n_i$ same as we did last time; the don't forget you will need the bias also for the output layer (but no recursion!)\n",
    "- You can call $X_{out}$ the input to the output (and second) layer, and $W_{out}$ its weight matrix.\n",
    "And do not underestimate the value of a quick sketch on a piece of paper! Or head to [draw.io](https://draw.io) if you want a computer drawing that is easy, quick and professional looking.\n",
    "\n",
    "Remember that the output can be interpreted as one scalar, but is in principle a vector with one element (because having only one output is a special case, normally you need a list of outputs here)."
   ]
  },
  {
   "cell_type": "markdown",
   "metadata": {},
   "source": [
    "- Input Matrix $X$:\n",
    "  $$\n",
    "  X =\n",
    "  \\begin{pmatrix}\n",
    "  x_1 \\\\ x_2 \\\\\n",
    "  \\end{pmatrix}\n",
    "  $$\n",
    "\n",
    "- Weight Matrix $W_{in}$ connecting the input layer to the hidden layer (same as last week : 4x2 because two initial inputs and 4 neurons in the next layer):\n",
    "  $$\n",
    "  W_{in} =\n",
    "  \\begin{pmatrix}\n",
    "  w_{11} & w_{12} \\\\ \n",
    "  w_{21} & w_{22} \\\\ \n",
    "  w_{31} & w_{32} \\\\ \n",
    "  w_{41} & w_{42}\n",
    "  \\end{pmatrix}\n",
    "  $$\n",
    "\n",
    "- Bias Vector $b_{hid}$ for the hidden layer:\n",
    "  $$\n",
    "  b_{hid} =\n",
    "  \\begin{pmatrix}\n",
    "  b_1 \\\\ b_2 \\\\ b_3 \\\\ b_4 \n",
    "  \\end{pmatrix}\n",
    "  $$\n",
    "\n",
    "- Recurrent Weight Matrix $R_{in}$ (a diagonal matrix for self-recurrent connections in the hidden layer):\n",
    "  $$\n",
    "  R_{in} =\n",
    "  \\begin{pmatrix}\n",
    "  r_1 & 0 & 0 & 0\\\\ \n",
    "  0 & r_2 & 0 & 0 \\\\ \n",
    "  0 & 0 & r_3 & 0 \\\\ \n",
    "  0 & 0 & 0 & r_4\n",
    "  \\end{pmatrix}\n",
    "  $$\n",
    "\n",
    "- Full Input $X_{hid}$ to the hidden layer (including inputs, recurrent activations, and the bias):\n",
    "  $$\n",
    "  X_{hid} = \n",
    "  \\begin{pmatrix}\n",
    "  x_1 \\\\\n",
    "  x_2 \\\\\n",
    "  r_1 \\\\\n",
    "  r_2 \\\\\n",
    "  r_3 \\\\\n",
    "  r_4 \\\\\n",
    "  1 \n",
    "  \\end{pmatrix}\n",
    "  $$\n",
    "\n",
    "- Weight Matrix $W_{hid}$ connecting the hidden layer to the output layer:\n",
    "  $$\n",
    "  W_{hid} =\n",
    "  \\begin{pmatrix}\n",
    "  w_{51} & w_{52} & w_{53} & w_{54}\n",
    "  \\end{pmatrix}\n",
    "  $$\n",
    "\n",
    "- $W_{\\text{h}}$: The weight matrix for all connections entering the hidden layer.  It includes : weights from $x_1, x_2$ to each neuron, recurrent weights from $r_1, r_2, r_3, r_4$ to each neuron, and a bias weight.\n",
    "\n",
    "$$ W_{\\text{h}} = \\begin{pmatrix}\n",
    "w_{11} & w_{12} & r_{1} & 0 & 0 & 0 & b_1 \\\\\n",
    "w_{21} & w_{22} & 0 & r_{2} & 0 & 0 & b_2 \\\\\n",
    "w_{31} & w_{32} & 0 & 0 & r_{3} & 0 & b_3 \\\\\n",
    "w_{41} & w_{42} & 0 & 0 & 0 & r_{4} & b_4\n",
    "\\end{pmatrix} $$\n",
    "\n",
    "- For time step $t$:\n",
    "$$ \\mathbf{h}_t = \\sigma(W_{\\text{h}} \\cdot X_{\\text{hid}}) $$\n",
    "Where $\\sigma$ is the activation function (sigmoid).\n",
    "\n",
    "- We have: $X_{\\text{out}} = (\\mathbf{h}_t, 1)$.\n",
    "\n",
    "- $W_{\\text{out}}$: This is a 1x5 matrix for the single output neuron $n_5$, including weights from each hidden neuron and a bias.\n",
    "\n",
    "$$ W_{\\text{out}} = \\begin{bmatrix}\n",
    "w_{51} & w_{52} & w_{53} & w_{54} & b_5\n",
    "\\end{bmatrix} $$\n",
    "\n",
    "$$ y_t = \\sigma(W_{\\text{out}} \\cdot X_{\\text{out}}) $$\n",
    "\n",
    "Input to hidden layer: there are 4 neurons each with 2 weights, so 4 x 2 = 8 weights. <br>\n",
    "Biases in hidden layer: 4 biases. <br>\n",
    "Recurrent weights in hidden layer: 4 weights. <br>\n",
    "Hidden to output layer: there is 1 neuron connected to 4 neurons in the hidden layer, thus 1 x 4 = 4 weights. <br>\n",
    "Bias for output layer : 1 weight. <br>\n",
    "Total number of weights: 8+4+4+4+1 = 21 weights.\n",
    "\n",
    "**Important Remark** : Here I modeled the self-reccurent connections as a diagonal matrix where each neuron connects only to itself. However, we also could have modeled it as a full matrix with potential connections between all neurons and then the matrix $R_{in} $ would have weights for in every index so that would change the total results to : $8+4+16+4+1=33$ weights. I asked which one should be used in the forum section of the course but unfortunately did not get any response."
   ]
  },
  {
   "cell_type": "markdown",
   "metadata": {},
   "source": [
    "#### 1.3 **[2pt]** A neural network has only one layer of two convolutional neurons with identity activation. Below you will find respective kernels $W_1$ and $W_2$ and input $X$. Activate the network on the input by hand showing all calculation. Assume no padding and state explicitly the expected output size."
   ]
  },
  {
   "cell_type": "markdown",
   "metadata": {},
   "source": [
    "It's easier to understand what you need to explain about your calculations if you actually start doing them :) just mark what you actually input in the calculator, what the calculator returns, and what calculation you are confident skipping.\n",
    "\n",
    "$$\n",
    "W_1 = \n",
    "\\begin{pmatrix}\n",
    "-1 & -1 & -1 \\\\\n",
    " 2 &  2 &  2 \\\\\n",
    "-1 & -1 & -1\n",
    "\\end{pmatrix}\n",
    "\\quad,\\quad\n",
    "W_2 = \n",
    "\\begin{pmatrix}\n",
    "-1 & 2 & -1 \\\\\n",
    "-1 & 2 & -1 \\\\\n",
    "-1 & 2 & -1\n",
    "\\end{pmatrix}\n",
    "\\\\\n",
    "X = \n",
    "\\begin{pmatrix}\n",
    "2 & 2 & 2 & 2 & 2 \\\\\n",
    "3 & 3 & 3 & 3 & 3 \\\\\n",
    "1 & 1 & 1 & 1 & 1 \\\\\n",
    "3 & 3 & 3 & 3 & 3 \\\\\n",
    "2 & 2 & 2 & 2 & 2 \n",
    "\\end{pmatrix}\n",
    "$$"
   ]
  },
  {
   "cell_type": "markdown",
   "metadata": {},
   "source": [
    "The expected output size for each convolution is 3x3.\n",
    "\n",
    "Convolution Operation with $W_1$\n",
    "\n",
    "- Top-left corner (1,1): $(-1*2 + -1*2 + -1*2 + 2*3 + 2*3 + 2*3 + -1*1 + -1*1 + -1*1) = 9$\n",
    "- Top-middle (1,2): Repeating the operation across the entire row gives the same result due to uniformity.\n",
    "- Top-right (1,3): Same reasoning.\n",
    "- Middle-left (2,1): $(-1*3 + -1*3 + -1*3 + 2*1 + 2*1 + 2*1 + -1*3 + -1*3 + -1*3) = -12$\n",
    "- Middle (2,2): 12 (see above)\n",
    "- Middle-right (2,3): 12 (same)\n",
    "- Bottom-left (3,1): $(-1*1 + -1*1 + -1*1 + 2*3 + 2*3 + 2*3 + -1*2 + -1*2 + -1*2) = 9$\n",
    "- Bottom-middle (3,2): 9 (see above)\n",
    "- Bottom-right (3,3): 9 (same)\n",
    "\n",
    "Output Matrix for $W_1$\n",
    "$$\n",
    "W_1 = \n",
    "\\begin{pmatrix}\n",
    " 9 & 9 & 9 \\\\\n",
    " -12 &  -12 &  -12 \\\\\n",
    " 9 & 9 & 9\n",
    "\\end{pmatrix}\n",
    "$$\n",
    "\n",
    "Calculations for $W_2$\n",
    "\n",
    "- Top-left corner (1,1): $(-1*2 + 2*2 + -1*2 + -1*3 + 2*3 + -1*3 + -1*1 + 2*1 + -1*1) = 0$\n",
    "- Top-middle (1,2) and top-right (1,3): Repeating the operation across the entire row gives the same result due to uniformity.\n",
    "- Middle-left (2,1): $(-1*3 + 2*3 + -1*3 + -1*1 + 2*1 + -1*1 + -1*3 + 2*3 + -1*3) = 0$\n",
    "- Middle (2,2), middle-right (2,3): 12 (same idea)\n",
    "- Bottom-left (3,1): $(-1*3 + 2*1 + -1*1 + -1*3 + 2*3 + -1*3 + -1*2 + 2*2 + -1*2) = 0$\n",
    "- Bottom-middle (3,2), bottom-right (3,3): 6 (same idea)\n",
    "\n",
    "Output Matrix for $W_2$\n",
    "$$\n",
    "W_2 = \n",
    "\\begin{pmatrix}\n",
    " 0 & 0 & 0 \\\\\n",
    " 0 &  0 &  0 \\\\\n",
    " 0 & 0 & 0\n",
    "\\end{pmatrix}\n",
    "$$\n"
   ]
  },
  {
   "cell_type": "markdown",
   "metadata": {},
   "source": [
    "#### 1.4 **[2pt]** Look at the activations of the two neurons from 1.3 and discuss why they are so different. Explain in particular the regularities both in the inputs and in the kernels. Then go one step further and explain, to the best of your understanding, which types of features are detected by the two kernels."
   ]
  },
  {
   "cell_type": "markdown",
   "metadata": {},
   "source": [
    "- This is another open question: as long as you do not write anything wrong, while showing competence and intuition, you will get the points.\n",
    "- Hint: focus on thinking about the _patterns_ that you can see by eye both in the data matrix and in the kernels. Try to go for an intuitive answer."
   ]
  },
  {
   "cell_type": "markdown",
   "metadata": {},
   "source": [
    "I believe $W_1$ responds to horizontal transitions due to its positive middle row and negative weights in the first and last rows. This is suitable for the output $X$ since it also has uniform rows. That is why, I think, the activation linked with $W_1$ gave us a matrix with different values. Similarly, I think $W_2$ is designed for vertical variations with a similar vertical structure (now it's the middle column which has positive weights and the first and last column with negative weights). It remains inactive when activated through X because X does not have any vertical changes (it's the same column 5 times). That is why the activation matrix is null in this second case.\n",
    "\n",
    "To sum up, I believe $W_1$ captures horizontal features, while $W_2$, aimed at vertical ones, finds no targets in $X$. That explains the difference in the activations matrices of the two neurons."
   ]
  },
  {
   "cell_type": "markdown",
   "metadata": {},
   "source": [
    "#### 1.5 **[1pt]** Activate a $3x3$ max pooling layer on the outputs of the two convolutions from your answer to question 1.3. Assume no padding."
   ]
  },
  {
   "cell_type": "markdown",
   "metadata": {},
   "source": [
    "Given that our output matrices are 3x3 and the pooling kernel size is also 3x3, the max pooling will cover the entire matrix at once. Therefore, we take the maximum value from the whole matrix for each kernel's output.\n",
    "\n",
    "1. Max Pooling on $W_1$'s Output:\n",
    "   - The maximum value in the matrix is 9, so the pooled result is: 9\n",
    "\n",
    "2. Max Pooling on $W_2$'s Output:\n",
    "   - The maximum value in this matrix is 0, so the pooled result is: 0\n"
   ]
  },
  {
   "cell_type": "markdown",
   "metadata": {},
   "source": [
    "#### 1.6 **[1pt]** Explain in one sentence what is an autoencoder. Why do autoencoders have an hourglass shape? Could you design an autoencoder with a different shape?"
   ]
  },
  {
   "cell_type": "markdown",
   "metadata": {},
   "source": [
    "An autoencoder is a type of neural network that learns to compress unlabeled data into a smaller, essential representation and then reconstructs it, often to reduce dimensionality or extract features while ignoring noise.\n",
    "\n",
    "Autoencoders have an hourglass shape because they first compress the data into a smaller form (encode) and then expand it back to match the original input (decode), leading to a natural narrowing and then widening in the network design.\n",
    "\n",
    "Yes, it's possible to design an autoencoder with a different shape, like a variational autoencoder (VAE) or one with skip connections, but the basic idea of compressing and then reconstructing data generally means there will be some form of narrowing and widening in the design."
   ]
  },
  {
   "cell_type": "markdown",
   "metadata": {},
   "source": [
    "# 2. Recurrent Neural Networks"
   ]
  },
  {
   "cell_type": "markdown",
   "metadata": {},
   "source": [
    "#### 2.1 **[3pt]** Below is last week's implementation of a neural network augmented into a fully-connected RNN with bias connections. Fix it by writing the missing code as marked by `?`."
   ]
  },
  {
   "cell_type": "markdown",
   "metadata": {},
   "source": [
    "- Unless otherwise stated, a RNN has fully-connected self-recurrent connections on each layer.\n",
    "- You should know exactly which connections to add if you answered the RNN question in the fundamentals.\n",
    "- For the bias: remember that you need all elements in `state` to be longer by one element: put actual `1`s in these last positions at initialization, then never touch them again.\n",
    "- Recurrencies: you need to make space in the input to each layer for its own output. I typically sort them as [input, recurrencies, bias], but order is not important: consistency is. Make sure all your sizes are correct.\n",
    "- When calculating the size of an input now you need to use `struct` twice: once for the size of the layer entering (something like `struct[nlay]`) and once for the size of the output that goes back as input in the recursion (hence `struct[nlay+1]`). HINT: to make the pairs for each layer execute and understand the following: `zip(struct, struct[1:])`\n",
    "- When you activate a layer remember to copy the activation to both (i) its output and (ii) its input, at the correct indices.\n",
    "- It's easier to compute the size of each input beforehand, then use it to make the `state` list. Then for each weight matrix you can take the number of rows from the structure (as before), and the number of inputs from the `state` sizes.  Don't worry about duplicating the activation in the layer's input, it's actually faster because you have a ready numpy array rather than composing at activation.\n",
    "- Remember to initialize the recurrent output to `0`. Simplest way is to initialize `state` using `np.zeros()` instead of `np.empty()`. Then set the last value of each `state` element to `1` for the bias.\n",
    "- I used myself `import IPython; IPython.embed()` heavily to get this to work. You can also call (once!) `%pdb` to drop in the debugger on error. Keep calm and check the dimensions.\n",
    "- The layer activation function should change because you are saving the activation to two locations (and at specific indices, not direct substitution like before), but the network activation function should change just marginally (add indices to insert input in state)\n",
    "- To _convolve_ with stride 1 and no padding a window of size two on a 1D list (take a pair at a time, advance by one) in Python you can use `zip(lst, lst[1:])`.\n",
    "- This question only refers to neural networks, not learning algorithm, so leave backpropagation out and do not worry about unrolling the network.\n",
    "- Again activate it on a simple input to verify everything is works. The input should be exactly the same as last week's (as the network architecture).\n",
    "- Think: how many weights do you expect to have? Remember that you have 3 matrices (for the 3 layers of neurons), in each the number of rows is unchanged (because you have one per each neuron) but the inputs now are not only connections from the previous layer, you also have recursion (take the output of this layer as its own input) and bias (constant 1 appended to the inputs).\n",
    "<!-- Secret hint: my tally is (4+3+1)*3 + (3+4+1)*4 + (4+3+1)*3 -->"
   ]
  },
  {
   "cell_type": "code",
   "execution_count": 2,
   "metadata": {},
   "outputs": [],
   "source": [
    "class RecurrentNeuralNetwork:\n",
    "    def __init__(self, struct):\n",
    "        # These are basic, copy+paste from FFNN\n",
    "        self.struct = struct\n",
    "        self.nlayers = len(self.struct) #like lab 9\n",
    "        self.nins, *self.nhids, self.nouts = self.struct\n",
    "        self.sigma = lambda x: 1/(1+np.exp(-x)) #still using the sigmoid function\n",
    "        \n",
    "        # Each `state` is an input for next layer: it now includes rec and bias\n",
    "        state_sizes = [inp + rec + 1 for inp, rec in zip(self.struct, self.struct[1:])] # inputs + recurrent +1 for the bias\n",
    "        # Notice the `zip` above ends when the second list reaches the end (1 shorter)\n",
    "        # Last `state` is only the output of the last layer (no rec/b)\n",
    "        state_sizes += [self.struct[-1]] \n",
    "        #this is for the last case (there is no rec since no subsequent layer and we don't consider the bias here) so only \"inp\" to be added\n",
    "        # We can now build the state of the network\n",
    "        self.state = [np.empty(size, dtype='float64') for size in state_sizes] #same format as last week \n",
    "        # we could also have done : self.state = [np.zeros(size) for size in state_sizes]\n",
    "        \n",
    "        # We will need to access inputs and recurrencies by index: the following helps\n",
    "        self.inp_idxs = [range(0, inp_size) for inp_size in self.struct] \n",
    "        #indices for each layer's direct inputs\n",
    "        \n",
    "        self.rec_idxs = [range(inp_size, inp_size+rec_size) for inp_size, rec_size in zip(struct[:-1], struct[1:])] \n",
    "        #indices for each layer's recurrent inputs (except the first which does not have any)\n",
    "        #doing a drawing helps (for example, for the first layer we have inp+rec+1 = 10 and the indices are : 1 to 4 for inputs, 5 to 9 for rec, and 10 for the bias)\n",
    "        \n",
    "        # Finally, fix the bias input in the last position of all input `state`s\n",
    "        # Just set and forget, and no need for indices because we won't access it again\n",
    "        for s in self.state: s[-1] = 1 #bias is last element, and equals 1\n",
    "            \n",
    "        # The `state` sizes now correspond to the row lengths (ncols) for the weight matrices\n",
    "        self.wsizes = [[out_size, inp_size] for (out_size, inp_size) in zip(self.struct[1:], state_sizes)] \n",
    "        # like last week, the number of rows is equal to the number of neurons in the corresponding subsequent layer \n",
    "        # and the number of columns is the number of inputs it gets (so the initial inputs + the recurrents + the bias)\n",
    "        \n",
    "        # Finally: weight initialization. Bad practice to hardcode this, but ok here\n",
    "        self.weights = [np.random.normal(size=ws) for ws in self.wsizes]\n",
    "\n",
    "    # The layer activation is unchanged: sigma(W.dot(X)) -- only W and X (=state) differ\n",
    "    def act_layer(self, nlay):\n",
    "        return self.sigma(np.dot(self.weights[nlay], self.state[nlay])) #same as last week\n",
    "\n",
    "    # The network activation only writes the act twice this time: output & rec-input\n",
    "    def act_net(self, inp):\n",
    "        assert len(inp) == self.nins, f\"got input `{inp}`, expected np.array of length `{self.nins}`\"\n",
    "        self.state[0][self.inp_idxs[0]] = inp\n",
    "        for nlay in range(self.nlayers-1):\n",
    "            act = self.act_layer(nlay)\n",
    "            # This time the layer activation goes in two places:\n",
    "            # - In the input indices of the output of this layer / input to next\n",
    "            self.state[nlay + 1][self.inp_idxs[nlay + 1]] = act #same idea as last week (we activate so we modify the value for the next layer)\n",
    "            # - In the recurrent indices of the input to this layer\n",
    "            self.state[nlay][self.rec_idxs[nlay]] = act #but now we also have the \"recurrent\" update (regarding the current layer)\n",
    "        return self.state[-1]"
   ]
  },
  {
   "cell_type": "code",
   "execution_count": 3,
   "metadata": {},
   "outputs": [
    {
     "name": "stdout",
     "output_type": "stream",
     "text": [
      "activation 1: [0.18792549 0.02280627 0.81163708]\n",
      "activation 2: [0.06662516 0.0363085  0.80979929]\n",
      "activation 3: [0.06781555 0.03728342 0.7667572 ]\n"
     ]
    }
   ],
   "source": [
    "struct = [4,5,4,3]\n",
    "inputs = [3,2,4,3]\n",
    "net = RecurrentNeuralNetwork(struct)\n",
    "# We expect the activation to change this time upon multiple calls on the same input\n",
    "# This is because the `state` of the RNN is maintained in the recurrent connections\n",
    "print(\"activation 1:\", net.act_net(np.array(inputs)))\n",
    "print(\"activation 2:\", net.act_net(np.array(inputs)))\n",
    "print(\"activation 3:\", net.act_net(np.array(inputs)))"
   ]
  },
  {
   "cell_type": "markdown",
   "metadata": {},
   "source": [
    "# 3. Convolutional Networks"
   ]
  },
  {
   "cell_type": "markdown",
   "metadata": {},
   "source": [
    "#### 1.1 **[2pt]** Write a Python function for 2D convolution, then run it on a randomly generated input matrix and show the output.\n",
    "\n",
    "- You need to write a function that takes a 2D input and a function to convolve as parameters, then convolves the function over the inputs to produce the output.\n",
    "- The window size is not specified: you can use a 3x3 to keep it simple since you saw that in the examples.\n",
    "- The function to convolve is not specified: no need for it to be a neural network, something as simple as `sum` or a quick lambda calling the numpy `x.sum()` would work perfectly well. Remember that the important part is that it should take a high-dimensional (3x3?) input and output only one value.\n",
    "- The size of the input matrix is not specified: with a 3x3 mask we could go as small as 5x5 with no padding and that would still show that the convolution works.\n",
    "- Then remember: the neural networks are just other functions than `sum`, but behave exactly the same way. Convolving a neural network only allows you to learn the function rather than hardcoding it, but the convolution process is independent.\n",
    "- Answer the question until the end: show that you know how to create a matrix of random numbers, and of the right size."
   ]
  },
  {
   "cell_type": "code",
   "execution_count": 4,
   "metadata": {},
   "outputs": [
    {
     "name": "stdout",
     "output_type": "stream",
     "text": [
      "[[0.83406416]]\n",
      "[[-4.276742   -3.23070573  0.78219796]\n",
      " [-0.29740852 -2.5885803  -2.01003702]\n",
      " [-0.75404552 -0.88448939 -3.03726577]]\n"
     ]
    }
   ],
   "source": [
    "def convolution(m,f):\n",
    "    input_rows, input_cols = m.shape # we gather the dimensions of the input matrix\n",
    "    \n",
    "    kernel_size = 3 # to keep it simple\n",
    "    \n",
    "    output_rows = input_rows - kernel_size + 1 # we determine the sizes of the output matrix \n",
    "    output_cols = input_cols - kernel_size + 1\n",
    "    \n",
    "    output_matrix = np.empty((output_rows, output_cols)) # initialization\n",
    "    \n",
    "    for i in range(output_rows): # actual convolution operation\n",
    "        for j in range(output_cols):\n",
    "            submatrix = m[i:i+kernel_size, j:j+kernel_size] # we extract the submatrix\n",
    "            output_matrix[i, j] = f(submatrix) #we apply the function to the submatrix\n",
    "    \n",
    "    return output_matrix\n",
    "\n",
    "m = np.random.randn(3, 3) # we create a 3x3 matrix with random numbers\n",
    "n = np.random.randn(5, 5)  # same but 5x5 example\n",
    "f = lambda x: x.sum()\n",
    "print(convolution(m,f))\n",
    "print(convolution(n,f))\n"
   ]
  },
  {
   "cell_type": "markdown",
   "metadata": {},
   "source": [
    "# 4. Handwritten digit recognition with Keras"
   ]
  },
  {
   "cell_type": "markdown",
   "metadata": {},
   "source": [
    "As mentioned at the beginning, we need to cross a gap in exercise complexity. On one hand you are ready to understand the inner work of a DL library like Keras, on the other asking you for such a task on top of today's lecture is too much even for this course :) So let's leave the creative part for next weeks, where we will see some more advanced applications anyway, and focus today on what we learned and on a new skill: how to justify your code.\n",
    "\n",
    "Below is a tutorial from the Keras website on convolutional networks [[source]](https://keras.io/examples/vision/mnist_convnet/). It uses the [MNIST dataset](https://en.wikipedia.org/wiki/MNIST_database), a standard dataset for handwritten character recognition. Keras offers you a backend to automatically download the dataset, similarly to what we did so far with Seaborn and Iris.\n",
    "\n",
    "The code should work as is (did you `pipenv install tensorflow keras`?), but take a while to run. Read it line by line, really study and understand it, feel free to change it so that it runs in few seconds if you wish to play with it; then answer the questions below.\n",
    "\n",
    "NOTE: you don't need to run the code to answer any of the questions below. If you used PyTorch at the last lecture, this is your chance to try out Keras. If you cannot (looking at you M1 users), you can use Colab for this assignment, or replace the Keras tutorial with a PyTorch equivalent [such as this](https://pythonguides.com/pytorch-mnist/). This only affects 4.3, while 4.1 and 4.2 should be fine."
   ]
  },
  {
   "cell_type": "code",
   "execution_count": 5,
   "metadata": {},
   "outputs": [
    {
     "name": "stdout",
     "output_type": "stream",
     "text": [
      "x_train shape: (60000, 28, 28, 1)\n",
      "60000 train samples\n",
      "10000 test samples\n",
      "Model: \"sequential\"\n",
      "_________________________________________________________________\n",
      " Layer (type)                Output Shape              Param #   \n",
      "=================================================================\n",
      " conv2d (Conv2D)             (None, 26, 26, 32)        320       \n",
      "                                                                 \n",
      " max_pooling2d (MaxPooling2  (None, 13, 13, 32)        0         \n",
      " D)                                                              \n",
      "                                                                 \n",
      " conv2d_1 (Conv2D)           (None, 11, 11, 64)        18496     \n",
      "                                                                 \n",
      " max_pooling2d_1 (MaxPoolin  (None, 5, 5, 64)          0         \n",
      " g2D)                                                            \n",
      "                                                                 \n",
      " flatten (Flatten)           (None, 1600)              0         \n",
      "                                                                 \n",
      " dropout (Dropout)           (None, 1600)              0         \n",
      "                                                                 \n",
      " dense (Dense)               (None, 10)                16010     \n",
      "                                                                 \n",
      "=================================================================\n",
      "Total params: 34826 (136.04 KB)\n",
      "Trainable params: 34826 (136.04 KB)\n",
      "Non-trainable params: 0 (0.00 Byte)\n",
      "_________________________________________________________________\n",
      "Epoch 1/15\n",
      "422/422 [==============================] - 18s 40ms/step - loss: 0.3555 - accuracy: 0.8924 - val_loss: 0.0899 - val_accuracy: 0.9738\n",
      "Epoch 2/15\n",
      "422/422 [==============================] - 16s 39ms/step - loss: 0.1156 - accuracy: 0.9639 - val_loss: 0.0606 - val_accuracy: 0.9845\n",
      "Epoch 3/15\n",
      "422/422 [==============================] - 16s 38ms/step - loss: 0.0878 - accuracy: 0.9735 - val_loss: 0.0549 - val_accuracy: 0.9855\n",
      "Epoch 4/15\n",
      "422/422 [==============================] - 16s 39ms/step - loss: 0.0729 - accuracy: 0.9770 - val_loss: 0.0452 - val_accuracy: 0.9863\n",
      "Epoch 5/15\n",
      "422/422 [==============================] - 17s 39ms/step - loss: 0.0641 - accuracy: 0.9805 - val_loss: 0.0404 - val_accuracy: 0.9888\n",
      "Epoch 6/15\n",
      "422/422 [==============================] - 18s 43ms/step - loss: 0.0574 - accuracy: 0.9822 - val_loss: 0.0375 - val_accuracy: 0.9903\n",
      "Epoch 7/15\n",
      "422/422 [==============================] - 17s 40ms/step - loss: 0.0519 - accuracy: 0.9839 - val_loss: 0.0393 - val_accuracy: 0.9898\n",
      "Epoch 8/15\n",
      "422/422 [==============================] - 17s 41ms/step - loss: 0.0485 - accuracy: 0.9848 - val_loss: 0.0394 - val_accuracy: 0.9897\n",
      "Epoch 9/15\n",
      "422/422 [==============================] - 18s 42ms/step - loss: 0.0458 - accuracy: 0.9853 - val_loss: 0.0357 - val_accuracy: 0.9898\n",
      "Epoch 10/15\n",
      "422/422 [==============================] - 18s 42ms/step - loss: 0.0432 - accuracy: 0.9858 - val_loss: 0.0311 - val_accuracy: 0.9918\n",
      "Epoch 11/15\n",
      "422/422 [==============================] - 18s 42ms/step - loss: 0.0411 - accuracy: 0.9874 - val_loss: 0.0296 - val_accuracy: 0.9912\n",
      "Epoch 12/15\n",
      "422/422 [==============================] - 18s 44ms/step - loss: 0.0382 - accuracy: 0.9879 - val_loss: 0.0330 - val_accuracy: 0.9900\n",
      "Epoch 13/15\n",
      "422/422 [==============================] - 18s 44ms/step - loss: 0.0372 - accuracy: 0.9878 - val_loss: 0.0316 - val_accuracy: 0.9908\n",
      "Epoch 14/15\n",
      "422/422 [==============================] - 18s 43ms/step - loss: 0.0358 - accuracy: 0.9886 - val_loss: 0.0278 - val_accuracy: 0.9920\n",
      "Epoch 15/15\n",
      "422/422 [==============================] - 18s 43ms/step - loss: 0.0345 - accuracy: 0.9893 - val_loss: 0.0283 - val_accuracy: 0.9918\n",
      "Test loss: 0.02501331828534603\n",
      "Test accuracy: 0.9922000169754028\n"
     ]
    }
   ],
   "source": [
    "\"\"\"\n",
    "Title: Simple MNIST convnet\n",
    "Author: [fchollet](https://twitter.com/fchollet)\n",
    "Date created: 2015/06/19\n",
    "Last modified: 2020/04/21\n",
    "Description: A simple convnet that achieves ~99% test accuracy on MNIST.\n",
    "SOURCE: https://github.com/keras-team/keras-io/blob/master/examples/vision/mnist_convnet.py\n",
    "\"\"\"\n",
    "\n",
    "\"\"\"\n",
    "## Setup\n",
    "\"\"\"\n",
    "\n",
    "import numpy as np\n",
    "from tensorflow import keras\n",
    "from tensorflow.keras import layers\n",
    "\n",
    "\"\"\"\n",
    "## Prepare the data\n",
    "\"\"\"\n",
    "\n",
    "# Model / data parameters\n",
    "num_classes = 10\n",
    "input_shape = (28, 28, 1)\n",
    "\n",
    "# the data, split between train and test sets\n",
    "(x_train, y_train), (x_test, y_test) = keras.datasets.mnist.load_data()\n",
    "\n",
    "# Scale images to the [0, 1] range\n",
    "x_train = x_train.astype(\"float32\") / 255\n",
    "x_test = x_test.astype(\"float32\") / 255\n",
    "# Make sure images have shape (28, 28, 1)\n",
    "x_train = np.expand_dims(x_train, -1)\n",
    "x_test = np.expand_dims(x_test, -1)\n",
    "print(\"x_train shape:\", x_train.shape)\n",
    "print(x_train.shape[0], \"train samples\")\n",
    "print(x_test.shape[0], \"test samples\")\n",
    "\n",
    "\n",
    "# convert class vectors to binary class matrices\n",
    "y_train = keras.utils.to_categorical(y_train, num_classes)\n",
    "y_test = keras.utils.to_categorical(y_test, num_classes)\n",
    "\n",
    "\"\"\"\n",
    "## Build the model\n",
    "\"\"\"\n",
    "\n",
    "model = keras.Sequential(\n",
    "    [\n",
    "        keras.Input(shape=input_shape),\n",
    "        layers.Conv2D(32, kernel_size=(3, 3), activation=\"relu\"),\n",
    "        layers.MaxPooling2D(pool_size=(2, 2)),\n",
    "        layers.Conv2D(64, kernel_size=(3, 3), activation=\"relu\"),\n",
    "        layers.MaxPooling2D(pool_size=(2, 2)),\n",
    "        layers.Flatten(),\n",
    "        layers.Dropout(0.5),\n",
    "        layers.Dense(num_classes, activation=\"softmax\"),\n",
    "    ]\n",
    ")\n",
    "\n",
    "model.summary()\n",
    "\n",
    "\"\"\"\n",
    "## Train the model\n",
    "\"\"\"\n",
    "\n",
    "batch_size = 128\n",
    "epochs = 15\n",
    "\n",
    "model.compile(\n",
    "    loss=\"categorical_crossentropy\",\n",
    "    optimizer=\"adam\",\n",
    "    metrics=[\"accuracy\"])\n",
    "\n",
    "history = model.fit(\n",
    "    x_train, y_train,\n",
    "    batch_size=batch_size,\n",
    "    epochs=epochs,\n",
    "    validation_split=0.1)\n",
    "\n",
    "\"\"\"\n",
    "## Evaluate the trained model\n",
    "\"\"\"\n",
    "score = model.evaluate(x_test, y_test, verbose=0)\n",
    "print(\"Test loss:\", score[0])\n",
    "print(\"Test accuracy:\", score[1])"
   ]
  },
  {
   "cell_type": "markdown",
   "metadata": {},
   "source": [
    "#### 4.1 **[1pt]** Data plotting: plot the first 9 images in MNIST using a 6x6 subplot."
   ]
  },
  {
   "cell_type": "markdown",
   "metadata": {},
   "source": [
    "Let's first see what the MNIST looks like. I showed how to use subplots in a recent solution -- do you remember where it was? You'll need the ability to search quickly for what you need to complete the exam in time. Try timing how long it takes you to answer this question (no seriously challenge your teammate on who solves this the quickest and feel free to brag about it in your solution below).\n",
    "- Add the label on the title to see how the numbers are represented: do you see the connection to last week's `species`?\n",
    "- After you obtain the axis from `plt.subplots()`, you can print a 2D image using `ax[?,?].imshow()`"
   ]
  },
  {
   "cell_type": "code",
   "execution_count": 10,
   "metadata": {},
   "outputs": [
    {
     "data": {
      "image/png": "[encoded data removed]",
      "text/plain": [
       "<Figure size 600x600 with 9 Axes>"
      ]
     },
     "metadata": {},
     "output_type": "display_data"
    }
   ],
   "source": [
    "# Since we have 9 images, a 6x6 size grid would give us 36 pictures so I assume here we talk about the size of each figure to be 6x6 inches\n",
    "fig, axes = plt.subplots(nrows=3, ncols=3, figsize=(6, 6))  # we create a 3x3 grid of subplots within a 6x6 inch figure \n",
    "axes = axes.flatten() \n",
    "\n",
    "for i, ax in enumerate(axes):\n",
    "    img = x_train[i]  #  we extract the i-th image\n",
    "    label = np.argmax(y_train[i])  # we get the label (without argmax we get a list of 0 and one 1 (the correct prediction))\n",
    "    ax.imshow(img, cmap='gray')  # we plot the image in grayscale \n",
    "    ax.set_title(f\"Label: {label}\") \n",
    "\n",
    "plt.tight_layout()  # we djust the layout to prevent overlapping\n",
    "plt.show()"
   ]
  },
  {
   "cell_type": "markdown",
   "metadata": {},
   "source": [
    "#### 4.2 **[4pt]** Explain the following lines in the Keras MNIST Tutorial code (in English): 27, 48, 51, 52, 57, 67/77, 68/78, 71\n",
    "\n",
    "- To answer this question you need to show complete competence, as if you wrote this code yourself and you were asked to explain your choices at an oral exam.\n",
    "- For each of the lines mentioned, check the code provided and explain it thoroughly\n",
    "- For each variable, explain its meaning, its use, and the choice of value assigned\n",
    "- For each function call, explain what it does, the meaning of all parameters, and the choices of all values.\n",
    "- Reading the code like \"assign 12 to variable `epochs`\" will not constitute an acceptable answer.\n",
    "- Reading the code like \"creates a new Sequential\" is also not acceptable: check the documentation for `Sequential`, understand what the call does, and present your findings."
   ]
  },
  {
   "cell_type": "markdown",
   "metadata": {},
   "source": [
    "- Line 27 : (x_train, y_train), (x_test, y_test) = keras.datasets.mnist.load_data() <br>\n",
    "This line loads the MNIST dataset, which includes images of handwritten digits and their corresponding labels. The dataset is split into training images (x_train) and labels (y_train), and testing images (x_test) and labels (y_test). The call keras.datasets.mnist.load_data() is used to fetch this standard dataset from Keras' repository, offering a common benchmark for machine learning models in image classification.\n",
    "\n",
    "- Line 48 : model = keras.Sequential( <br>\n",
    "This line begins the definition of a sequential model in Keras. A sequential model is a linear stack of layers where each layer has exactly one input tensor and one output tensor. The Sequential model is ideal for building straightforward neural networks where data flows from one layer to the next without branching or skip connections, making it perfect for standard architectures.\n",
    "\n",
    "- Line 51: layers.Conv2D(32, kernel_size=(3, 3), activation=\"relu\") <br>\n",
    "Here, this adds a 2D convolutional layer with 32 filters of size 3x3 to the model, using the ReLU activation function. In other words, this layers looks for patterns in images using 32 small 3x3 filters. It uses the relu function to help the model understand non-linear patterns.\n",
    "\n",
    "- Line 52: layers.MaxPooling2D(pool_size=(2, 2)) <br>\n",
    "This incorporates a max pooling layer with a 2x2 pool size that reduces the spatial dimensions of the input feature map. This operation retains the most dominant features in each 2x2 area. This helps the model focus on the most important parts of the image. (it's similar to what we did in question 1.5) It also makes the network more robust to small variations in the image and helps to prevent overfitting.\n",
    "\n",
    "- Line 57: layers.Dense(num_classes, activation=\"softmax\"), <br>\n",
    "This adds a fully connected (dense) layer to the model that links every input to every output, to predict which of the 10 digit classes (0-9) the image most likely represents. The softmax function turns the decisions into a probability distribution.\n",
    "\n",
    "- Lines 67/77: batch_size = 128 <br>\n",
    "This sets the number of images the model processes together during one step of training (before the model is updated) to 128. By doing this, the model updates its weights after looking at each group of 128 images. It allows for faster convergence without requiring too much memory.\n",
    "\n",
    "- Lines 68/78: epochs = 15 <br>\n",
    "This specifies that the model will go through the entire set of training images 15 times. Each pass over the training data helps the model learn more from the images and improve its ability to recognize digits. This number allows to optimize performance without significant overfitting risks (which become greater if we increase the number of epochs).\n",
    "\n",
    "- Line 71: loss=\"categorical_crossentropy\" <br>\n",
    "This line sets the loss function to \"categorical_crossentropy\". This function measures how well the model's predictions match the actual labels. Tt measures the difference between the predicted probabilities (from the soft max function, see line 57) and the actual labels in one-hot encoded form. This loss function is suited to multi-classification problems like this one. The model will try to minimize this loss during training to improve its accuracy. "
   ]
  },
  {
   "cell_type": "markdown",
   "metadata": {},
   "source": [
    "#### 4.3 **[2pt]** Run Keras MNIST code, tweaking it as needed if it takes too long on your machine. Plot the model's accuracy and loss over time."
   ]
  },
  {
   "cell_type": "markdown",
   "metadata": {},
   "source": [
    "- This is almost for free since you did the same visualization last week, but you need to get the code to run first.\n",
    "- Also you may want to make sure your changes include setting 'accuracy' and the `history` variable, or at the end of the run you could end up with still nothing to show :)"
   ]
  },
  {
   "cell_type": "code",
   "execution_count": 27,
   "metadata": {},
   "outputs": [
    {
     "name": "stdout",
     "output_type": "stream",
     "text": [
      "x_train shape: (60000, 28, 28, 1)\n",
      "60000 train samples\n",
      "10000 test samples\n",
      "Model: \"sequential_1\"\n",
      "_________________________________________________________________\n",
      " Layer (type)                Output Shape              Param #   \n",
      "=================================================================\n",
      " conv2d_2 (Conv2D)           (None, 26, 26, 16)        160       \n",
      "                                                                 \n",
      " max_pooling2d_2 (MaxPoolin  (None, 13, 13, 16)        0         \n",
      " g2D)                                                            \n",
      "                                                                 \n",
      " conv2d_3 (Conv2D)           (None, 11, 11, 64)        9280      \n",
      "                                                                 \n",
      " max_pooling2d_3 (MaxPoolin  (None, 5, 5, 64)          0         \n",
      " g2D)                                                            \n",
      "                                                                 \n",
      " flatten_1 (Flatten)         (None, 1600)              0         \n",
      "                                                                 \n",
      " dropout_1 (Dropout)         (None, 1600)              0         \n",
      "                                                                 \n",
      " dense_1 (Dense)             (None, 10)                16010     \n",
      "                                                                 \n",
      "=================================================================\n",
      "Total params: 25450 (99.41 KB)\n",
      "Trainable params: 25450 (99.41 KB)\n",
      "Non-trainable params: 0 (0.00 Byte)\n",
      "_________________________________________________________________\n",
      "Epoch 1/10\n",
      "211/211 [==============================] - 12s 52ms/step - loss: 0.5536 - accuracy: 0.8368 - val_loss: 0.1210 - val_accuracy: 0.9662\n",
      "Epoch 2/10\n",
      "211/211 [==============================] - 11s 53ms/step - loss: 0.1543 - accuracy: 0.9524 - val_loss: 0.0770 - val_accuracy: 0.9787\n",
      "Epoch 3/10\n",
      "211/211 [==============================] - 11s 52ms/step - loss: 0.1116 - accuracy: 0.9656 - val_loss: 0.0629 - val_accuracy: 0.9837\n",
      "Epoch 4/10\n",
      "211/211 [==============================] - 11s 50ms/step - loss: 0.0944 - accuracy: 0.9712 - val_loss: 0.0551 - val_accuracy: 0.9850\n",
      "Epoch 5/10\n",
      "211/211 [==============================] - 11s 50ms/step - loss: 0.0833 - accuracy: 0.9741 - val_loss: 0.0469 - val_accuracy: 0.9885\n",
      "Epoch 6/10\n",
      "211/211 [==============================] - 12s 55ms/step - loss: 0.0752 - accuracy: 0.9771 - val_loss: 0.0460 - val_accuracy: 0.9872\n",
      "Epoch 7/10\n",
      "211/211 [==============================] - 11s 51ms/step - loss: 0.0674 - accuracy: 0.9791 - val_loss: 0.0433 - val_accuracy: 0.9883\n",
      "Epoch 8/10\n",
      "211/211 [==============================] - 11s 50ms/step - loss: 0.0625 - accuracy: 0.9806 - val_loss: 0.0382 - val_accuracy: 0.9907\n",
      "Epoch 9/10\n",
      "211/211 [==============================] - 11s 52ms/step - loss: 0.0585 - accuracy: 0.9820 - val_loss: 0.0403 - val_accuracy: 0.9898\n",
      "Epoch 10/10\n",
      "211/211 [==============================] - 11s 53ms/step - loss: 0.0566 - accuracy: 0.9829 - val_loss: 0.0368 - val_accuracy: 0.9898\n",
      "Test loss: 0.037434980273246765\n",
      "Test accuracy: 0.9876000285148621\n"
     ]
    }
   ],
   "source": [
    "\"\"\"\n",
    "Title: Simple MNIST convnet\n",
    "Author: [fchollet](https://twitter.com/fchollet)\n",
    "Date created: 2015/06/19\n",
    "Last modified: 2020/04/21\n",
    "Description: A simple convnet that achieves ~99% test accuracy on MNIST.\n",
    "SOURCE: https://github.com/keras-team/keras-io/blob/master/examples/vision/mnist_convnet.py\n",
    "\"\"\"\n",
    "\n",
    "\"\"\"\n",
    "## Setup\n",
    "\"\"\"\n",
    "\n",
    "import numpy as np\n",
    "from tensorflow import keras\n",
    "from tensorflow.keras import layers\n",
    "\n",
    "\"\"\"\n",
    "## Prepare the data\n",
    "\"\"\"\n",
    "\n",
    "# Model / data parameters\n",
    "num_classes = 10\n",
    "input_shape = (28, 28, 1)\n",
    "\n",
    "# the data, split between train and test sets\n",
    "(x_train, y_train), (x_test, y_test) = keras.datasets.mnist.load_data()\n",
    "\n",
    "# Scale images to the [0, 1] range\n",
    "x_train = x_train.astype(\"float32\") / 255\n",
    "x_test = x_test.astype(\"float32\") / 255\n",
    "# Make sure images have shape (28, 28, 1)\n",
    "x_train = np.expand_dims(x_train, -1)\n",
    "x_test = np.expand_dims(x_test, -1)\n",
    "print(\"x_train shape:\", x_train.shape)\n",
    "print(x_train.shape[0], \"train samples\")\n",
    "print(x_test.shape[0], \"test samples\")\n",
    "\n",
    "\n",
    "# convert class vectors to binary class matrices\n",
    "y_train = keras.utils.to_categorical(y_train, num_classes)\n",
    "y_test = keras.utils.to_categorical(y_test, num_classes)\n",
    "\n",
    "\"\"\"\n",
    "## Build the model\n",
    "\"\"\"\n",
    "\n",
    "model = keras.Sequential(\n",
    "    [\n",
    "        keras.Input(shape=input_shape),\n",
    "        layers.Conv2D(16, kernel_size=(3, 3), activation=\"relu\"), # decrease from 32 to 16\n",
    "        layers.MaxPooling2D(pool_size=(2, 2)),\n",
    "        layers.Conv2D(64, kernel_size=(3, 3), activation=\"relu\"), # decrease from 64 to 32\n",
    "        layers.MaxPooling2D(pool_size=(2, 2)),\n",
    "        layers.Flatten(),\n",
    "        layers.Dropout(0.5),\n",
    "        layers.Dense(num_classes, activation=\"softmax\"),\n",
    "    ]\n",
    ")\n",
    "\n",
    "model.summary()\n",
    "\n",
    "\"\"\"\n",
    "## Train the model\n",
    "\"\"\"\n",
    "\n",
    "batch_size = 256 # increased it from 128 to 256 (less updates so quicker)\n",
    "epochs = 10 # reduced it from 15 to 10 (we go over the entire set of training images 5 times less)\n",
    "\n",
    "model.compile(\n",
    "    loss=\"categorical_crossentropy\",\n",
    "    optimizer=\"adam\",\n",
    "    metrics=[\"accuracy\"])\n",
    "\n",
    "history = model.fit(\n",
    "    x_train, y_train,\n",
    "    batch_size=batch_size,\n",
    "    epochs=epochs,\n",
    "    validation_split=0.1)\n",
    "\n",
    "\"\"\"\n",
    "## Evaluate the trained model\n",
    "\"\"\"\n",
    "score = model.evaluate(x_test, y_test, verbose=0)\n",
    "print(\"Test loss:\", score[0])\n",
    "print(\"Test accuracy:\", score[1])"
   ]
  },
  {
   "cell_type": "code",
   "execution_count": 28,
   "metadata": {},
   "outputs": [
    {
     "data": {
      "image/png": "[encoded data removed]",
      "text/plain": [
       "<Figure size 800x600 with 1 Axes>"
      ]
     },
     "metadata": {},
     "output_type": "display_data"
    },
    {
     "data": {
      "image/png": "[encoded data removed]",
      "text/plain": [
       "<Figure size 800x600 with 1 Axes>"
      ]
     },
     "metadata": {},
     "output_type": "display_data"
    }
   ],
   "source": [
    "plt.plot(history.history['accuracy']) #we plot the accuracy\n",
    "plt.plot(history.history['val_accuracy'])\n",
    "plt.title('Model accuracy')\n",
    "plt.ylabel('Accuracy')\n",
    "plt.xlabel('Epoch')\n",
    "plt.legend(['Train', 'Test'], loc='upper left')\n",
    "plt.show()\n",
    "\n",
    "plt.plot(history.history['loss']) #we plot the loss\n",
    "plt.plot(history.history['val_loss'])\n",
    "plt.title('Model loss')\n",
    "plt.ylabel('Loss')\n",
    "plt.xlabel('Epoch')\n",
    "plt.legend(['Train', 'Test'], loc='upper left')\n",
    "plt.show()"
   ]
  },
  {
   "cell_type": "markdown",
   "metadata": {},
   "source": [
    "# At the end of the exercise"
   ]
  },
  {
   "cell_type": "markdown",
   "metadata": {},
   "source": [
    "Bonus question with no points! Answering this will have no influence on your scoring, not at the assignment and not towards the exam score -- really feel free to ignore it with no consequence. But solving it will reward you with skills that will make the next lectures easier, give you real applications, and will be good practice towards the exam.\n",
    "\n",
    "The solution for this questions will not be included in the regular lab solutions pdf, but you are welcome to open a discussion on the Moodle: we will support your addressing it, and you may meet other students that choose to solve this, and find a teammate for the next assignment that is willing to do things for fun and not only for score :)"
   ]
  },
  {
   "cell_type": "markdown",
   "metadata": {},
   "source": [
    "#### BONUS **[ZERO pt]** Edit the Keras MNIST code to use a simple RNN, then cheat by passing all images of a class in a sequence (careful with batch size). Reset the network between classes. RNNs will recognize that you expect a constant output per each sequence, decide which output with the first few images, then just saturate the right neurons using the recurrent connections to generate a constant output regardless of the input. You can verify this by then testing the network on a sequence of elements from a constant class, followed by one (or more) elements from another class: they will likely be misclassified. All intelligent learning picks up on shortcuts whenever available, here is a famous example (check the full paper): [husky vs. wolf](https://www.researchgate.net/figure/A-husky-on-the-left-is-confused-with-a-wolf-because-the-pixels-on-the-right_fig1_329277474). Notice that getting a \"simple\" RNN in Keras is not straightforward."
   ]
  },
  {
   "cell_type": "markdown",
   "metadata": {},
   "source": [
    "### Final considerations"
   ]
  },
  {
   "cell_type": "markdown",
   "metadata": {},
   "source": [
    "- At the end of this lecture + exercise you should _own_ neural networks. It does not mean that you know everything about them, but you know enough to understand any resource on the topic, and actually understand how these things work better than most people who just use Keras/Pytorch on a daily basis (unfortunately)."
   ]
  }
 ],
 "metadata": {
  "kernelspec": {
   "display_name": "ML-KERNEL",
   "language": "python",
   "name": "ml-kernel"
  },
  "language_info": {
   "codemirror_mode": {
    "name": "ipython",
    "version": 3
   },
   "file_extension": ".py",
   "mimetype": "text/x-python",
   "name": "python",
   "nbconvert_exporter": "python",
   "pygments_lexer": "ipython3",
   "version": "3.8.0"
  }
 },
 "nbformat": 4,
 "nbformat_minor": 4
}
